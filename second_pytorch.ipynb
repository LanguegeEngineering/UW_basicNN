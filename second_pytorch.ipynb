{
  "nbformat": 4,
  "nbformat_minor": 0,
  "metadata": {
    "colab": {
      "name": "second_pytorch.ipynb",
      "provenance": []
    },
    "kernelspec": {
      "name": "python3",
      "display_name": "Python 3"
    },
    "accelerator": "GPU"
  },
  "cells": [
    {
      "cell_type": "markdown",
      "metadata": {
        "id": "IyHwxMlFiRvv"
      },
      "source": [
        "### Zadania\n",
        "\n",
        "1. Dodać jedną warstwą ukrytą"
      ]
    },
    {
      "cell_type": "code",
      "metadata": {
        "id": "H33pSMkXf68U",
        "colab": {
          "base_uri": "https://localhost:8080/"
        },
        "outputId": "eba71d94-3d3b-4375-e518-cc6e1501befb"
      },
      "source": [
        "import torch\n",
        "import numpy as np\n",
        "\n",
        "dtype = torch.float\n",
        "device = torch.device(\"cpu\")\n",
        "\n",
        "N, D_in, H, D_out = 16, 4, 0, 1\n",
        "\n",
        "# Create random input and output data\n",
        "\n",
        "x_numpy = np.array(    [[0., 0., 0., 1.],\n",
        "                        [1., 0., 0., 1.],\n",
        "                        [0., 1., 0., 1.],\n",
        "                        [0., 0., 1., 1.],\n",
        "                        [1., 1., 0., 1.],\n",
        "                        [1., 0., 1., 1.],\n",
        "                        [0., 1., 1., 1.],\n",
        "                        [1., 1., 1., 1.],\n",
        "                        [0., 0., 0., 0.],\n",
        "                        [1., 0., 0., 0.],\n",
        "                        [0., 1., 0., 0.],\n",
        "                        [0., 0., 1., 0.],\n",
        "                        [1., 1., 0., 0.],\n",
        "                        [1., 0., 1., 0.],\n",
        "                        [0., 1., 1., 0.],\n",
        "                        [1., 1., 1., 0.]])\n",
        "\n",
        "x = torch.from_numpy(x_numpy).float()\n",
        "print(x)"
      ],
      "execution_count": 1,
      "outputs": [
        {
          "output_type": "stream",
          "name": "stdout",
          "text": [
            "tensor([[0., 0., 0., 1.],\n",
            "        [1., 0., 0., 1.],\n",
            "        [0., 1., 0., 1.],\n",
            "        [0., 0., 1., 1.],\n",
            "        [1., 1., 0., 1.],\n",
            "        [1., 0., 1., 1.],\n",
            "        [0., 1., 1., 1.],\n",
            "        [1., 1., 1., 1.],\n",
            "        [0., 0., 0., 0.],\n",
            "        [1., 0., 0., 0.],\n",
            "        [0., 1., 0., 0.],\n",
            "        [0., 0., 1., 0.],\n",
            "        [1., 1., 0., 0.],\n",
            "        [1., 0., 1., 0.],\n",
            "        [0., 1., 1., 0.],\n",
            "        [1., 1., 1., 0.]])\n"
          ]
        }
      ]
    },
    {
      "cell_type": "code",
      "metadata": {
        "id": "hOCO9CINiel9"
      },
      "source": [
        "y_numpy = np.array(     [[1.],\n",
        "                         [1.],\n",
        "                         [1.],\n",
        "                         [1.],\n",
        "                         [1.],\n",
        "                         [1.],\n",
        "                         [1.],\n",
        "                         [1.],\n",
        "                         [0.],\n",
        "                         [0.],\n",
        "                         [0.],\n",
        "                         [0.],\n",
        "                         [0.],\n",
        "                         [0.],\n",
        "                         [0.],\n",
        "                         [0.]])\n",
        "\n",
        "y = torch.from_numpy(y_numpy).float()"
      ],
      "execution_count": 2,
      "outputs": []
    },
    {
      "cell_type": "code",
      "metadata": {
        "id": "NhbWLwe3j8Dj"
      },
      "source": [
        "model = torch.nn.Sequential(\n",
        "    torch.nn.Linear(D_in, D_out),\n",
        ")\n",
        "loss_fn = torch.nn.MSELoss(reduction='sum')\n",
        "learning_rate = 1e-4\n",
        "optimizer = torch.optim.Adam(model.parameters(), lr=learning_rate)"
      ],
      "execution_count": 3,
      "outputs": []
    },
    {
      "cell_type": "code",
      "metadata": {
        "id": "OiVljZvUh8PH"
      },
      "source": [
        "loss_list = []\n",
        "for t in range(10):\n",
        "    y_pred = model(x)\n",
        "    loss = loss_fn(y_pred, y)\n",
        "    loss_list.append(loss.item())\n",
        "\n",
        "    optimizer.zero_grad()\n",
        "    loss.backward()\n",
        "    optimizer.step()\n"
      ],
      "execution_count": 4,
      "outputs": []
    },
    {
      "cell_type": "code",
      "metadata": {
        "id": "T63x3fY2ls24",
        "colab": {
          "base_uri": "https://localhost:8080/",
          "height": 282
        },
        "outputId": "f89ab792-766f-4c81-cadc-c9392fc12ba1"
      },
      "source": [
        "import matplotlib.pyplot as plt\n",
        "\n",
        "plt.plot(loss_list, label = 'loss')\n",
        "plt.legend()\n",
        "plt.show()\n",
        "print(loss_list[-1])"
      ],
      "execution_count": 5,
      "outputs": [
        {
          "output_type": "display_data",
          "data": {
            "image/png": "[encoded data removed]",
            "text/plain": [
              "<Figure size 432x288 with 1 Axes>"
            ]
          },
          "metadata": {
            "needs_background": "light"
          }
        },
        {
          "output_type": "stream",
          "name": "stdout",
          "text": [
            "10.933258056640625\n"
          ]
        }
      ]
    },
    {
      "cell_type": "code",
      "metadata": {
        "id": "Khsdv_l6od5-"
      },
      "source": [
        ""
      ],
      "execution_count": 5,
      "outputs": []
    }
  ]
}