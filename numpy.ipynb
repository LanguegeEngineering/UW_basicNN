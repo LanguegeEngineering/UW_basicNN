{
  "nbformat": 4,
  "nbformat_minor": 0,
  "metadata": {
    "colab": {
      "name": "numpy.ipynb",
      "provenance": []
    },
    "kernelspec": {
      "name": "python3",
      "display_name": "Python 3"
    }
  },
  "cells": [
    {
      "cell_type": "code",
      "metadata": {
        "id": "D0U8H6t8ZC37"
      },
      "source": [
        "import numpy as np"
      ],
      "execution_count": 1,
      "outputs": []
    },
    {
      "cell_type": "markdown",
      "metadata": {
        "id": "WQoCKMOFZKnv"
      },
      "source": [
        "Numpy to biblioteka służąca do operacji na macierzach "
      ]
    },
    {
      "cell_type": "code",
      "metadata": {
        "id": "4o0xdDaPZMg9",
        "colab": {
          "base_uri": "https://localhost:8080/"
        },
        "outputId": "a1979b56-8d9d-444d-d557-8b091ca89991"
      },
      "source": [
        "a = np.arange(15).reshape(3, 5)\n",
        "print(a)\n",
        "\n",
        "print(\"a size is {}\".format(a.shape))\n",
        "print('\\n')\n",
        "\n",
        "b = a.reshape(5,3)\n",
        "print(b)\n",
        "print('\\n')\n",
        "\n",
        "\n",
        "zero_matrix = np.zeros((2,3))\n",
        "print(zero_matrix)\n",
        "print('\\n')\n",
        "one_matrix = np.ones((4,2))\n",
        "print(one_matrix)\n"
      ],
      "execution_count": 2,
      "outputs": [
        {
          "output_type": "stream",
          "name": "stdout",
          "text": [
            "[[ 0  1  2  3  4]\n",
            " [ 5  6  7  8  9]\n",
            " [10 11 12 13 14]]\n",
            "a size is (3, 5)\n",
            "\n",
            "\n",
            "[[ 0  1  2]\n",
            " [ 3  4  5]\n",
            " [ 6  7  8]\n",
            " [ 9 10 11]\n",
            " [12 13 14]]\n",
            "\n",
            "\n",
            "[[0. 0. 0.]\n",
            " [0. 0. 0.]]\n",
            "\n",
            "\n",
            "[[1. 1.]\n",
            " [1. 1.]\n",
            " [1. 1.]\n",
            " [1. 1.]]\n"
          ]
        }
      ]
    },
    {
      "cell_type": "markdown",
      "metadata": {
        "id": "OqS-VQXDZPHk"
      },
      "source": [
        "Podstawowe operacje na macierzach:"
      ]
    },
    {
      "cell_type": "code",
      "metadata": {
        "id": "_Q0Pg5ObZRSk",
        "colab": {
          "base_uri": "https://localhost:8080/"
        },
        "outputId": "58f79a92-ec53-466e-ca8a-f3a8ee77c3e5"
      },
      "source": [
        "A = np.array( [[1,1],\n",
        "               [0,1]] )\n",
        "print(\"A\")\n",
        "print(A)\n",
        "print('\\n')\n",
        "\n",
        "B = np.array( [[2,0],\n",
        "               [3,4]] )\n",
        "\n",
        "print(\"B\")\n",
        "print(B)\n",
        "print('\\n')\n",
        "\n",
        "print('B\\'')\n",
        "print(B.T)\n",
        "print('\\n')\n",
        "\n",
        "print(\"A * B\")\n",
        "print(A * B)\n",
        "print('\\n')\n",
        "\n",
        "print(\"A x B\")\n",
        "print(A.dot(B))\n",
        "print('\\n')\n",
        "\n",
        "print(\"B x A\")\n",
        "print(B.dot(A))\n",
        "print('\\n')\n",
        "\n",
        "print(\"A - B\")\n",
        "print(A-B)\n",
        "print('\\n')\n",
        "\n",
        "print(\"A + B\")\n",
        "print(A+B)\n",
        "print('\\n')\n",
        "\n",
        "print(\"A + 3\")\n",
        "print(A+3)\n",
        "print('\\n')\n",
        "\n",
        "print(\"B^2\")\n",
        "print(B*2)\n",
        "print('\\n')"
      ],
      "execution_count": 3,
      "outputs": [
        {
          "output_type": "stream",
          "name": "stdout",
          "text": [
            "A\n",
            "[[1 1]\n",
            " [0 1]]\n",
            "\n",
            "\n",
            "B\n",
            "[[2 0]\n",
            " [3 4]]\n",
            "\n",
            "\n",
            "B'\n",
            "[[2 3]\n",
            " [0 4]]\n",
            "\n",
            "\n",
            "A * B\n",
            "[[2 0]\n",
            " [0 4]]\n",
            "\n",
            "\n",
            "A x B\n",
            "[[5 4]\n",
            " [3 4]]\n",
            "\n",
            "\n",
            "B x A\n",
            "[[2 2]\n",
            " [3 7]]\n",
            "\n",
            "\n",
            "A - B\n",
            "[[-1  1]\n",
            " [-3 -3]]\n",
            "\n",
            "\n",
            "A + B\n",
            "[[3 1]\n",
            " [3 5]]\n",
            "\n",
            "\n",
            "A + 3\n",
            "[[4 4]\n",
            " [3 4]]\n",
            "\n",
            "\n",
            "B^2\n",
            "[[4 0]\n",
            " [6 8]]\n",
            "\n",
            "\n"
          ]
        }
      ]
    },
    {
      "cell_type": "markdown",
      "metadata": {
        "id": "6zpB125fZVYP"
      },
      "source": [
        "### Zadanie\n",
        "\n",
        "Korzystając z powyższych informacji  i mnożenia macieży skonstruować \"tabliczkę mnożenia\"."
      ]
    },
    {
      "cell_type": "code",
      "metadata": {
        "id": "kYLiTkm8WGx0"
      },
      "source": [
        ""
      ],
      "execution_count": null,
      "outputs": []
    }
  ]
}