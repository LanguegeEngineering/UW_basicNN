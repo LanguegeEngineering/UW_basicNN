{
  "nbformat": 4,
  "nbformat_minor": 0,
  "metadata": {
    "colab": {
      "name": "numpy_nn.ipynb",
      "provenance": [],
      "collapsed_sections": []
    },
    "kernelspec": {
      "name": "python3",
      "display_name": "Python 3"
    }
  },
  "cells": [
    {
      "cell_type": "markdown",
      "metadata": {
        "id": "Z4tcQ2V1fhT8"
      },
      "source": [
        "### Zadania\n",
        "\n",
        "1. Dodać iteracje do treningu\n",
        "2. Dodać rysunek zmian strat w kolejnych iteracjach"
      ]
    },
    {
      "cell_type": "code",
      "metadata": {
        "id": "IqgyOy4Qso7v",
        "colab": {
          "base_uri": "https://localhost:8080/"
        },
        "outputId": "4e012a6b-e185-4277-e4b5-5cec596e561f"
      },
      "source": [
        "import numpy as np\n",
        "import matplotlib.pyplot as plt\n",
        "\n",
        "# N is batch size; D_in is input dimension;\n",
        "# H is hidden dimension; D_out is output dimension.\n",
        "N, D_in, H, D_out = 16, 4, 0, 1\n",
        "\n",
        "# Create random input and output data\n",
        "\n",
        "x_numpy = np.array(    [[0., 0., 0., 1.],\n",
        "                        [1., 0., 0., 1.],\n",
        "                        [0., 1., 0., 1.],\n",
        "                        [0., 0., 1., 1.],\n",
        "                        [1., 1., 0., 1.],\n",
        "                        [1., 0., 1., 1.],\n",
        "                        [0., 1., 1., 1.],\n",
        "                        [1., 1., 1., 1.],\n",
        "                        [0., 0., 0., 0.],\n",
        "                        [1., 0., 0., 0.],\n",
        "                        [0., 1., 0., 0.],\n",
        "                        [0., 0., 1., 0.],\n",
        "                        [1., 1., 0., 0.],\n",
        "                        [1., 0., 1., 0.],\n",
        "                        [0., 1., 1., 0.],\n",
        "                        [1., 1., 1., 0.]])\n",
        "\n",
        "print(x_numpy.shape)"
      ],
      "execution_count": 1,
      "outputs": [
        {
          "output_type": "stream",
          "name": "stdout",
          "text": [
            "(16, 4)\n"
          ]
        }
      ]
    },
    {
      "cell_type": "code",
      "metadata": {
        "id": "HyAwvfvmSV4l",
        "colab": {
          "base_uri": "https://localhost:8080/"
        },
        "outputId": "41f9ca89-5d80-4001-8870-d3e82f7f45d4"
      },
      "source": [
        "y_numpy = np.array(     [[1.],\n",
        "                         [1.],\n",
        "                         [1.],\n",
        "                         [1.],\n",
        "                         [1.],\n",
        "                         [1.],\n",
        "                         [1.],\n",
        "                         [1.],\n",
        "                         [0.],\n",
        "                         [0.],\n",
        "                         [0.],\n",
        "                         [0.],\n",
        "                         [0.],\n",
        "                         [0.],\n",
        "                         [0.],\n",
        "                         [0.]])\n",
        "\n",
        "\n",
        "print(y_numpy.shape)"
      ],
      "execution_count": 2,
      "outputs": [
        {
          "output_type": "stream",
          "name": "stdout",
          "text": [
            "(16, 1)\n"
          ]
        }
      ]
    },
    {
      "cell_type": "code",
      "metadata": {
        "id": "7YJNoruLSXgk",
        "colab": {
          "base_uri": "https://localhost:8080/"
        },
        "outputId": "bc0b73a2-49f6-44ce-b9c6-e543340ed2af"
      },
      "source": [
        "# Randomly initialize weights\n",
        "w = np.random.randn(D_in, D_out)\n",
        "\n",
        "print(w)\n",
        "print(w.shape)"
      ],
      "execution_count": 3,
      "outputs": [
        {
          "output_type": "stream",
          "name": "stdout",
          "text": [
            "[[-0.07757221]\n",
            " [ 0.47554955]\n",
            " [ 0.70085011]\n",
            " [-1.39665715]]\n",
            "(4, 1)\n"
          ]
        }
      ]
    },
    {
      "cell_type": "code",
      "metadata": {
        "id": "HPFz65FiPKmn"
      },
      "source": [
        "learning_rate = 1e-5\n",
        "loss_list = []\n",
        "\n"
      ],
      "execution_count": 4,
      "outputs": []
    },
    {
      "cell_type": "code",
      "metadata": {
        "id": "NNm6egQBaLdy",
        "colab": {
          "base_uri": "https://localhost:8080/"
        },
        "outputId": "bc28ee49-5452-4c0d-952c-b384c0fb698d"
      },
      "source": [
        "# Forward pass: compute predicted y\n",
        "y_pred = x_numpy.dot(w)\n",
        "print(y_pred)\n"
      ],
      "execution_count": 5,
      "outputs": [
        {
          "output_type": "stream",
          "name": "stdout",
          "text": [
            "[[-1.39665715]\n",
            " [-1.47422936]\n",
            " [-0.9211076 ]\n",
            " [-0.69580704]\n",
            " [-0.99867981]\n",
            " [-0.77337925]\n",
            " [-0.22025749]\n",
            " [-0.2978297 ]\n",
            " [ 0.        ]\n",
            " [-0.07757221]\n",
            " [ 0.47554955]\n",
            " [ 0.70085011]\n",
            " [ 0.39797735]\n",
            " [ 0.6232779 ]\n",
            " [ 1.17639966]\n",
            " [ 1.09882746]]\n"
          ]
        }
      ]
    },
    {
      "cell_type": "code",
      "metadata": {
        "id": "pUWfDOFtSgIm"
      },
      "source": [
        "# Compute and print loss\n",
        "loss = np.square(y_pred - y_numpy).sum()\n",
        "\n",
        "# Backprop to compute gradients of w1 and w2 with respect to loss\n",
        "grad_y_pred = 2.0 * (y_pred - y_numpy)\n",
        "grad_w = x_numpy.T.dot(grad_y_pred)\n",
        "\n",
        "# Update weights\n",
        "w = w - learning_rate * grad_w\n",
        "print(w)"
      ],
      "execution_count": 10,
      "outputs": []
    },
    {
      "cell_type": "code",
      "metadata": {
        "id": "KBRbjAooSzs3"
      },
      "source": [
        ""
      ],
      "execution_count": 6,
      "outputs": []
    },
    {
      "cell_type": "code",
      "metadata": {
        "id": "heXJqSquaVh4",
        "colab": {
          "base_uri": "https://localhost:8080/",
          "height": 265
        },
        "outputId": "40b43b58-e18e-4c14-caba-1d8ddf3916e5"
      },
      "source": [
        "plt.plot(loss_list, label = 'loss')\n",
        "plt.legend()\n",
        "plt.show()"
      ],
      "execution_count": 11,
      "outputs": [
        {
          "output_type": "display_data",
          "data": {
            "image/png": "[encoded data removed]",
            "text/plain": [
              "<Figure size 432x288 with 1 Axes>"
            ]
          },
          "metadata": {
            "needs_background": "light"
          }
        }
      ]
    },
    {
      "cell_type": "code",
      "metadata": {
        "id": "j-WQQA9COshP"
      },
      "source": [
        ""
      ],
      "execution_count": 7,
      "outputs": []
    }
  ]
}